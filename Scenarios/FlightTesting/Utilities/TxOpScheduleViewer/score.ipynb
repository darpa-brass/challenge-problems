{
 "cells": [
  {
   "cell_type": "code",
   "execution_count": 1,
   "metadata": {},
   "outputs": [],
   "source": [
    "import math\n",
    "\n",
    "import numpy as np"
   ]
  },
  {
   "cell_type": "code",
   "execution_count": 2,
   "metadata": {},
   "outputs": [],
   "source": [
    "# approximate value per kbps of throughput\n",
    "def fun_tp (x): \n",
    "    if x < 150:\n",
    "        return 0.0\n",
    "    elif x < 2000:\n",
    "        return 100 - 100 * (math.e ** (-.005 * x))\n",
    "    else:\n",
    "        return 100 - 100 * (math.e ** (-.005 * 2000))\n",
    "    \n",
    "\n",
    "vfun_tp = np.vectorize(fun_tp)\n",
    "\n",
    "x = np.linspace(0, 2500, 10000)\n",
    "y = vfun_tp(x)"
   ]
  },
  {
   "cell_type": "code",
   "execution_count": 3,
   "metadata": {},
   "outputs": [],
   "source": [
    "# approximate value per ms of latency\n",
    "def fun_l (x): \n",
    "    if x < 50:\n",
    "        return 100\n",
    "    elif x < 60:\n",
    "        ans = -(x-50)**2 + 100\n",
    "        if (ans > 0):\n",
    "            return ans\n",
    "    else:\n",
    "        return 0\n",
    "    \n",
    "\n",
    "vfun_l = np.vectorize(fun_l)\n",
    "\n",
    "x = np.linspace(0, 125, 10000)\n",
    "y = vfun_l(x)"
   ]
  }
 ],
 "metadata": {
  "kernelspec": {
   "display_name": "Python 3",
   "language": "python",
   "name": "python3"
  },
  "language_info": {
   "codemirror_mode": {
    "name": "ipython",
    "version": 3
   },
   "file_extension": ".py",
   "mimetype": "text/x-python",
   "name": "python",
   "nbconvert_exporter": "python",
   "pygments_lexer": "ipython3",
   "version": "3.7.1"
  }
 },
 "nbformat": 4,
 "nbformat_minor": 2
}
