{
 "cells": [
  {
   "cell_type": "code",
   "execution_count": 2,
   "metadata": {
    "scrolled": true
   },
   "outputs": [
    {
     "data": {
      "image/png": "[encoded data removed]",
      "text/plain": [
       "<Figure size 360x360 with 1 Axes>"
      ]
     },
     "metadata": {},
     "output_type": "display_data"
    }
   ],
   "source": [
    "import os\n",
    "import csv\n",
    "import numpy as np\n",
    "import pandas as pd\n",
    "import matplotlib.pyplot as plt\n",
    "import seaborn as sns\n",
    "\n",
    "cwd = os.getcwd()\n",
    "csv_data = []\n",
    "sns.set(style=\"darkgrid\")\n",
    "data_path = os.path.join(cwd, \"data\")\n",
    "for file in os.listdir(data_path):\n",
    "    ext = os.path.splitext(file)[-1].lower()\n",
    "    if ext == \".csv\":\n",
    "        file_path = os.path.join(data_path, file)\n",
    "        with open(file_path, 'r') as f1:\n",
    "            csv_file = csv.reader(f1)\n",
    "            data_list = []\n",
    "            for row in csv_file:\n",
    "                data_list.extend(row)\n",
    "            csv_data.append(data_list)\n",
    "        break\n",
    "\n",
    "datasets = []\n",
    "for data in csv_data:\n",
    "    t = np.arange(len(data))\n",
    "    accel = np.fft.fft(data)\n",
    "    freq = np.fft.fftfreq(t.shape[-1])\n",
    "    data_dict = {'Frequency': freq, 'Acceleration': accel}\n",
    "    dataset = pd.DataFrame(data=data_dict)\n",
    "    sns.relplot(x='Frequency', y='Acceleration', data=dataset)\n",
    "    plt.show()\n",
    "    datasets.append(dataset)\n"
   ]
  },
  {
   "cell_type": "code",
   "execution_count": null,
   "metadata": {},
   "outputs": [],
   "source": []
  }
 ],
 "metadata": {
  "kernelspec": {
   "display_name": "Python 3",
   "language": "python",
   "name": "python3"
  },
  "language_info": {
   "codemirror_mode": {
    "name": "ipython",
    "version": 3
   },
   "file_extension": ".py",
   "mimetype": "text/x-python",
   "name": "python",
   "nbconvert_exporter": "python",
   "pygments_lexer": "ipython3",
   "version": "3.6.8"
  }
 },
 "nbformat": 4,
 "nbformat_minor": 2
}
